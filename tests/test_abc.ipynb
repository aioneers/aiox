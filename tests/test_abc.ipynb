{
 "metadata": {
  "language_info": {
   "codemirror_mode": {
    "name": "ipython",
    "version": 3
   },
   "file_extension": ".py",
   "mimetype": "text/x-python",
   "name": "python",
   "nbconvert_exporter": "python",
   "pygments_lexer": "ipython3",
   "version": "3.8.10"
  },
  "orig_nbformat": 4,
  "kernelspec": {
   "name": "python3",
   "display_name": "Python 3.8.10 64-bit ('my_new': conda)"
  },
  "interpreter": {
   "hash": "1e72e1175f72f9e91fc87c16b0c0e9740bd8e868e92dc6b840ccf1241d5f9d3a"
  }
 },
 "nbformat": 4,
 "nbformat_minor": 2,
 "cells": [
  {
   "cell_type": "code",
   "execution_count": 9,
   "metadata": {},
   "outputs": [],
   "source": [
    "import numpy as np\n",
    "import aiox\n",
    "import pandas as pd"
   ]
  },
  {
   "cell_type": "code",
   "execution_count": 10,
   "metadata": {},
   "outputs": [],
   "source": [
    "\n",
    "# create sample data\n",
    "products, quantities, countries, regions, cities = {}, {}, {}, {}, {}\n",
    "np.random.seed(seed=0)\n",
    "for i in range(1000):\n",
    "    products[i] = \"{:04d}\".format(np.random.randint(15))\n",
    "    quantities[i] = np.random.randint(1000)\n",
    "    countries[i] = \"{:03d}\".format(np.random.randint(4))\n",
    "    regions[i] = \"{:05d}\".format(np.random.randint(3))\n",
    "    cities[i] = \"{:02d}\".format(np.random.randint(2))\n",
    "\n"
   ]
  },
  {
   "cell_type": "code",
   "execution_count": 13,
   "metadata": {},
   "outputs": [],
   "source": [
    "# prepare sample data DataFrame\n",
    "df_prep = pd.DataFrame()\n",
    "df_prep[\"Product\"] = products.values()\n",
    "df_prep[\"Country\"] = countries.values()\n",
    "df_prep[\"Quantity\"] = quantities.values()\n",
    "df_prep[\"Region\"] = regions.values()\n",
    "df_prep[\"City\"] = cities.values()\n",
    "\n",
    "df = pd.concat([df_prep, df_prep])\n"
   ]
  },
  {
   "cell_type": "code",
   "execution_count": 14,
   "metadata": {},
   "outputs": [
    {
     "output_type": "execute_result",
     "data": {
      "text/plain": [
       "(2000, 5)"
      ]
     },
     "metadata": {},
     "execution_count": 14
    }
   ],
   "source": [
    "df.shape"
   ]
  },
  {
   "cell_type": "code",
   "execution_count": 18,
   "metadata": {},
   "outputs": [
    {
     "output_type": "execute_result",
     "data": {
      "text/plain": [
       "    Product Country  Quantity Region City\n",
       "0      0012     001       559  00000   01\n",
       "1      0011     003       707  00001   01\n",
       "2      0005     000       754  00002   00\n",
       "3      0008     002       396  00001   00\n",
       "4      0007     002        87  00000   01\n",
       "..      ...     ...       ...    ...  ...\n",
       "995    0003     001       734  00001   01\n",
       "996    0014     000       413  00000   00\n",
       "997    0009     002       930  00001   01\n",
       "998    0013     001       712  00001   00\n",
       "999    0004     003       303  00000   00\n",
       "\n",
       "[2000 rows x 5 columns]"
      ],
      "text/html": "<div>\n<style scoped>\n    .dataframe tbody tr th:only-of-type {\n        vertical-align: middle;\n    }\n\n    .dataframe tbody tr th {\n        vertical-align: top;\n    }\n\n    .dataframe thead th {\n        text-align: right;\n    }\n</style>\n<table border=\"1\" class=\"dataframe\">\n  <thead>\n    <tr style=\"text-align: right;\">\n      <th></th>\n      <th>Product</th>\n      <th>Country</th>\n      <th>Quantity</th>\n      <th>Region</th>\n      <th>City</th>\n    </tr>\n  </thead>\n  <tbody>\n    <tr>\n      <th>0</th>\n      <td>0012</td>\n      <td>001</td>\n      <td>559</td>\n      <td>00000</td>\n      <td>01</td>\n    </tr>\n    <tr>\n      <th>1</th>\n      <td>0011</td>\n      <td>003</td>\n      <td>707</td>\n      <td>00001</td>\n      <td>01</td>\n    </tr>\n    <tr>\n      <th>2</th>\n      <td>0005</td>\n      <td>000</td>\n      <td>754</td>\n      <td>00002</td>\n      <td>00</td>\n    </tr>\n    <tr>\n      <th>3</th>\n      <td>0008</td>\n      <td>002</td>\n      <td>396</td>\n      <td>00001</td>\n      <td>00</td>\n    </tr>\n    <tr>\n      <th>4</th>\n      <td>0007</td>\n      <td>002</td>\n      <td>87</td>\n      <td>00000</td>\n      <td>01</td>\n    </tr>\n    <tr>\n      <th>...</th>\n      <td>...</td>\n      <td>...</td>\n      <td>...</td>\n      <td>...</td>\n      <td>...</td>\n    </tr>\n    <tr>\n      <th>995</th>\n      <td>0003</td>\n      <td>001</td>\n      <td>734</td>\n      <td>00001</td>\n      <td>01</td>\n    </tr>\n    <tr>\n      <th>996</th>\n      <td>0014</td>\n      <td>000</td>\n      <td>413</td>\n      <td>00000</td>\n      <td>00</td>\n    </tr>\n    <tr>\n      <th>997</th>\n      <td>0009</td>\n      <td>002</td>\n      <td>930</td>\n      <td>00001</td>\n      <td>01</td>\n    </tr>\n    <tr>\n      <th>998</th>\n      <td>0013</td>\n      <td>001</td>\n      <td>712</td>\n      <td>00001</td>\n      <td>00</td>\n    </tr>\n    <tr>\n      <th>999</th>\n      <td>0004</td>\n      <td>003</td>\n      <td>303</td>\n      <td>00000</td>\n      <td>00</td>\n    </tr>\n  </tbody>\n</table>\n<p>2000 rows × 5 columns</p>\n</div>"
     },
     "metadata": {},
     "execution_count": 18
    }
   ],
   "source": [
    "df"
   ]
  },
  {
   "cell_type": "code",
   "execution_count": 17,
   "metadata": {},
   "outputs": [
    {
     "output_type": "execute_result",
     "data": {
      "text/plain": [
       "Product     object\n",
       "Country     object\n",
       "Quantity     int64\n",
       "Region      object\n",
       "City        object\n",
       "dtype: object"
      ]
     },
     "metadata": {},
     "execution_count": 17
    }
   ],
   "source": [
    "df.dtypes"
   ]
  },
  {
   "cell_type": "code",
   "execution_count": 15,
   "metadata": {},
   "outputs": [],
   "source": [
    "\n",
    "results = aiox.abc_analysis(\n",
    "    df,\n",
    "    primary_dimension=\"Product\",\n",
    "    secondary_dimensions=[\"Country\", \"Region\"],\n",
    "    numeric_dimension=\"Quantity\",\n",
    ")\n",
    "\n",
    "results[\n",
    "    (results[\"secondary_dimension\"] == \"003-00002-01\")\n",
    "    | (results[\"secondary_dimension\"] == \"003-00002-00\")\n",
    "]\n",
    "assert len(results)"
   ]
  },
  {
   "cell_type": "code",
   "execution_count": null,
   "metadata": {},
   "outputs": [],
   "source": []
  }
 ]
}